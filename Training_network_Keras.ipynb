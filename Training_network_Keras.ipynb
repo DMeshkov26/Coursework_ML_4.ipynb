{
  "nbformat": 4,
  "nbformat_minor": 0,
  "metadata": {
    "colab": {
      "provenance": [],
      "gpuType": "T4"
    },
    "kernelspec": {
      "name": "python3",
      "display_name": "Python 3"
    },
    "language_info": {
      "name": "python"
    },
    "accelerator": "GPU"
  },
  "cells": [
    {
      "cell_type": "code",
      "execution_count": 1,
      "metadata": {
        "id": "DhwQF1GBhiv9"
      },
      "outputs": [],
      "source": [
        "import numpy as np\n",
        "import pandas as pd\n",
        "import tensorflow as tf"
      ]
    },
    {
      "cell_type": "code",
      "source": [
        "# Загружаем модель resnet50face\n",
        "\n",
        "import gdown\n",
        "\n",
        "url = 'https://drive.google.com/uc?id=1oHJxVZCcVwp1dgcwDIZL4h97uInxOGWO'\n",
        "output = 'resnet50face.h5'\n",
        "gdown.download(url, output, quiet=False)\n",
        "\n",
        "\n",
        "from tensorflow.keras.models import load_model\n",
        "\n",
        "vggface_model = load_model(\"resnet50face.h5\")"
      ],
      "metadata": {
        "colab": {
          "base_uri": "https://localhost:8080/"
        },
        "id": "ydoBu9d7iUmA",
        "outputId": "45b8854b-6dc8-4969-9150-ce95a3b8614e"
      },
      "execution_count": 2,
      "outputs": [
        {
          "output_type": "stream",
          "name": "stderr",
          "text": [
            "Downloading...\n",
            "From (original): https://drive.google.com/uc?id=1oHJxVZCcVwp1dgcwDIZL4h97uInxOGWO\n",
            "From (redirected): https://drive.google.com/uc?id=1oHJxVZCcVwp1dgcwDIZL4h97uInxOGWO&confirm=t&uuid=76373e65-f53a-4b54-bb7c-3dc796515afc\n",
            "To: /content/resnet50face.h5\n",
            "100%|██████████| 166M/166M [00:01<00:00, 95.5MB/s]\n",
            "WARNING:tensorflow:No training configuration found in the save file, so the model was *not* compiled. Compile it manually.\n"
          ]
        }
      ]
    },
    {
      "cell_type": "code",
      "source": [
        "# Подключаем гугл диск\n",
        "\n",
        "from google.colab import drive\n",
        "\n",
        "drive.mount('/content/drive')"
      ],
      "metadata": {
        "colab": {
          "base_uri": "https://localhost:8080/"
        },
        "id": "Hn5HYX17iUgd",
        "outputId": "e14ec7bb-02de-41b0-a87d-6a349de94e34"
      },
      "execution_count": 4,
      "outputs": [
        {
          "output_type": "stream",
          "name": "stdout",
          "text": [
            "Mounted at /content/drive\n"
          ]
        }
      ]
    },
    {
      "cell_type": "code",
      "source": [
        "# Прописываем путь к файлу с архивом данных для обучения и распаковываем его\n",
        "\n",
        "import zipfile\n",
        "import os\n",
        "\n",
        "zip_file = '/content/drive/My Drive/Skillbox/train.zip'\n",
        "z = zipfile.ZipFile(zip_file, 'r')\n",
        "z.extractall()"
      ],
      "metadata": {
        "id": "e91PskLpjIh_"
      },
      "execution_count": 5,
      "outputs": []
    },
    {
      "cell_type": "code",
      "source": [
        "# Прописываем путь к директории\n",
        "\n",
        "folder_id = '/content/drive/My Drive/Skillbox'"
      ],
      "metadata": {
        "id": "DAoWGrLEjIfM"
      },
      "execution_count": 6,
      "outputs": []
    },
    {
      "cell_type": "code",
      "source": [
        "# Загрузка учебного датасета\n",
        "\n",
        "df = pd.read_csv(\"/content/drive/My Drive/Skillbox/train.csv\")"
      ],
      "metadata": {
        "id": "rP5uUrykjIb-"
      },
      "execution_count": 7,
      "outputs": []
    },
    {
      "cell_type": "code",
      "source": [
        "# Функция для размечивания датасета на обучаемую и валидационную часть\n",
        "\n",
        "from sklearn.model_selection import train_test_split\n",
        "\n",
        "list_em = df['emotion'].unique()\n",
        "\n",
        "def set_train_flag(df, emotion):\n",
        "    indices = df[df['emotion'] == emotion].index\n",
        "    train_indices = train_test_split(indices, test_size=0.3, random_state=42, shuffle=True)[0]\n",
        "    df.loc[train_indices, 'train'] = 1\n",
        "    return df"
      ],
      "metadata": {
        "id": "wQ_mAX-NlF9e"
      },
      "execution_count": 8,
      "outputs": []
    },
    {
      "cell_type": "code",
      "source": [
        "# Применяем функцию для каждой эмоции в списке\n",
        "\n",
        "for em in list_em:\n",
        "    df = set_train_flag(df.copy(), em)\n",
        "\n",
        "# Разделяем датасет по метке\n",
        "df_train = df[df[\"train\"] == 1].reset_index()\n",
        "df_val = df[df[\"train\"] != 1].reset_index()"
      ],
      "metadata": {
        "id": "0NGBHfjDmiU1"
      },
      "execution_count": 9,
      "outputs": []
    },
    {
      "cell_type": "code",
      "source": [
        "# Создаём генератор image_gen типа ImageDataGenerator\n",
        "\n",
        "from PIL import Image\n",
        "from keras import backend as K\n",
        "from tensorflow.keras.preprocessing import image\n",
        "from tensorflow.keras.preprocessing.image import ImageDataGenerator\n",
        "\n",
        "\n",
        "def preprocess_input_facenet(x, data_format=None, version=2):\n",
        "    x_temp = np.copy(x)\n",
        "    x_temp = image.img_to_array(x_temp)\n",
        "    x_temp = np.expand_dims(x_temp, axis=0)\n",
        "    if data_format is None:\n",
        "        data_format = K.image_data_format()\n",
        "    assert data_format in {'channels_last', 'channels_first'}\n",
        "\n",
        "\n",
        "    if version == 1:\n",
        "        if data_format == 'channels_first':\n",
        "            x_temp = x_temp[:, ::-1, ...]\n",
        "            x_temp[:, 0, :, :] -= 93.5940\n",
        "            x_temp[:, 1, :, :] -= 104.7624\n",
        "            x_temp[:, 2, :, :] -= 129.1863\n",
        "        else:\n",
        "            x_temp = x_temp[..., ::-1]\n",
        "            x_temp[..., 0] -= 93.5940\n",
        "            x_temp[..., 1] -= 104.7624\n",
        "            x_temp[..., 2] -= 129.1863\n",
        "\n",
        "\n",
        "    elif version == 2:\n",
        "        if data_format == 'channels_first':\n",
        "            x_temp = x_temp[:, ::-1, ...]\n",
        "            x_temp[:, 0, :, :] -= 91.4953\n",
        "            x_temp[:, 1, :, :] -= 103.8827\n",
        "            x_temp[:, 2, :, :] -= 131.0912\n",
        "        else:\n",
        "            x_temp = x_temp[..., ::-1]\n",
        "            x_temp[..., 0] -= 91.4953\n",
        "            x_temp[..., 1] -= 103.8827\n",
        "            x_temp[..., 2] -= 131.0912\n",
        "    else:\n",
        "        raise NotImplementedError\n",
        "\n",
        "\n",
        "    return x_temp\n",
        "\n",
        "\n",
        "image_gen = ImageDataGenerator(preprocessing_function=preprocess_input_facenet,\n",
        "                               rotation_range=10,          # Поворот на случайный угол до 10 градусов\n",
        "                               zoom_range=0.1,            # Увеличение размера до 10 %\n",
        "                               width_shift_range=0.1,      # Сдвих влево / вправо до 10 процентов\n",
        "                               height_shift_range=0.1,     # Сдвиг вверх / вниз до 10 процентов\n",
        ")"
      ],
      "metadata": {
        "id": "TlXht5mhiUd0"
      },
      "execution_count": 10,
      "outputs": []
    },
    {
      "cell_type": "code",
      "source": [
        "# Создаём учебный и валидационный генератор\n",
        "\n",
        "train_generator = image_gen.flow_from_dataframe(\n",
        "    dataframe=df_train,\n",
        "    directory=\".\",\n",
        "    x_col=\"image_path\",\n",
        "    y_col=\"emotion\",\n",
        "    target_size=(224, 224),\n",
        "    batch_size=64,\n",
        "    shuffle=True,\n",
        "    class_mode=\"categorical\"\n",
        ")\n",
        "\n",
        "val_generator = image_gen.flow_from_dataframe(\n",
        "    dataframe=df_val,\n",
        "    directory=\".\",\n",
        "    x_col=\"image_path\",\n",
        "    y_col=\"emotion\",\n",
        "    target_size=(224, 224),\n",
        "    batch_size=64,\n",
        "    shuffle=False,\n",
        "    class_mode=\"categorical\"\n",
        ")"
      ],
      "metadata": {
        "colab": {
          "base_uri": "https://localhost:8080/"
        },
        "id": "1eKbjWQniUbF",
        "outputId": "3256b1cd-8a21-486c-b69f-33452d648089"
      },
      "execution_count": 11,
      "outputs": [
        {
          "output_type": "stream",
          "name": "stdout",
          "text": [
            "Found 35028 validated image filenames belonging to 9 classes.\n",
            "Found 15018 validated image filenames belonging to 9 classes.\n"
          ]
        }
      ]
    },
    {
      "cell_type": "code",
      "source": [
        "#  Чекпоинт для сохранения ВСЕЙ модели (архитектура + веса + оптимизатор)\n",
        "\n",
        "checkpoint_callback_full = tf.keras.callbacks.ModelCheckpoint(\n",
        "    filepath=os.path.join(folder_id, \"model_checkpoint_{epoch:02d}.hdf5\"),\n",
        "    monitor=\"categorical_accuracy\",\n",
        "    save_best_only=True,\n",
        "    mode='max'\n",
        ")\n",
        "\n",
        "#  Чекпоинт для сохранения ТОЛЬКО весов\n",
        "\n",
        "checkpoint_callback_weights = tf.keras.callbacks.ModelCheckpoint(\n",
        "    filepath=os.path.join(folder_id, \"weights_only_{epoch:02d}.hdf5\"),\n",
        "    save_weights_only=True,\n",
        "    monitor=\"val_categorical_accuracy\",\n",
        "    save_best_only=True,\n",
        "    mode='max'\n",
        ")\n",
        "\n",
        "# Чекпоинт для уменьшения скорости обучения если контрольная метрика перестала улучшаться\n",
        "\n",
        "reduce_lr = tf.keras.callbacks.ReduceLROnPlateau(monitor='val_loss',\n",
        "                                                factor=0.1,\n",
        "                                                patience=3,\n",
        "                                                mode='auto',\n",
        "                                                min_delta=0.01,\n",
        "                                                min_lr=0.00001\n",
        ")"
      ],
      "metadata": {
        "id": "f5Wx-zgQnaHY"
      },
      "execution_count": 12,
      "outputs": []
    },
    {
      "cell_type": "code",
      "source": [
        "# Отрезаем последний слой класификатора\n",
        "\n",
        "base_model = tf.keras.Model([vggface_model.input], vggface_model.get_layer(\"flatten_1\").output)\n",
        "\n",
        "# Замораживаем всю базовую модель\n",
        "\n",
        "base_model.trainable = False"
      ],
      "metadata": {
        "id": "zi-q4q-siUYV"
      },
      "execution_count": 13,
      "outputs": []
    },
    {
      "cell_type": "code",
      "source": [
        "# Добавляем к базовой модели класификатор\n",
        "\n",
        "\n",
        "from tensorflow.keras.models import Sequential\n",
        "from tensorflow.keras.layers import Dense\n",
        "\n",
        "model = tf.keras.Sequential([\n",
        "  base_model,\n",
        "  tf.keras.layers.Dense(9, activation='softmax')\n",
        "])\n"
      ],
      "metadata": {
        "id": "GHArEOV4iUVy"
      },
      "execution_count": 14,
      "outputs": []
    },
    {
      "cell_type": "code",
      "source": [
        "# Компилируем модель\n",
        "\n",
        "from tensorflow.keras.optimizers import Adam\n",
        "\n",
        "model.compile(optimizer=tf.keras.optimizers.Adam(lr=0.01),\n",
        "              loss='categorical_crossentropy',\n",
        "              metrics=[tf.keras.metrics.CategoricalAccuracy()])\n",
        "\n",
        "model.summary()"
      ],
      "metadata": {
        "colab": {
          "base_uri": "https://localhost:8080/"
        },
        "id": "lGl6TwbSiUTU",
        "outputId": "83460b10-759b-4836-bc86-445495c27f7d"
      },
      "execution_count": 15,
      "outputs": [
        {
          "output_type": "stream",
          "name": "stderr",
          "text": [
            "WARNING:absl:`lr` is deprecated in Keras optimizer, please use `learning_rate` or use the legacy optimizer, e.g.,tf.keras.optimizers.legacy.Adam.\n"
          ]
        },
        {
          "output_type": "stream",
          "name": "stdout",
          "text": [
            "Model: \"sequential\"\n",
            "_________________________________________________________________\n",
            " Layer (type)                Output Shape              Param #   \n",
            "=================================================================\n",
            " model (Functional)          (None, 2048)              23561152  \n",
            "                                                                 \n",
            " dense (Dense)               (None, 9)                 18441     \n",
            "                                                                 \n",
            "=================================================================\n",
            "Total params: 23579593 (89.95 MB)\n",
            "Trainable params: 18441 (72.04 KB)\n",
            "Non-trainable params: 23561152 (89.88 MB)\n",
            "_________________________________________________________________\n"
          ]
        }
      ]
    },
    {
      "cell_type": "code",
      "source": [
        "# Загрузка всей модели из чекпоинта c гугл диска\n",
        "\n",
        "model = tf.keras.models.load_model(os.path.join(folder_id, \"model_checkpoint_06.hdf5\"))"
      ],
      "metadata": {
        "id": "_LvNh-mNiUQv"
      },
      "execution_count": 16,
      "outputs": []
    },
    {
      "cell_type": "code",
      "source": [
        "# Загрузка весов из чекпоинта c гугл диска\n",
        "\n",
        "model.load_weights(os.path.join(folder_id, \"weights_only_06.hdf5\"))"
      ],
      "metadata": {
        "id": "LVM3i38hBD76"
      },
      "execution_count": 31,
      "outputs": []
    },
    {
      "cell_type": "code",
      "source": [
        "# Обучаем модель\n",
        "\n",
        "EPOCHS = 5\n",
        "model.fit(train_generator, steps_per_epoch=25,\n",
        "                              epochs=EPOCHS,\n",
        "                              validation_data=val_generator,\n",
        "                              callbacks=[checkpoint_callback_full, checkpoint_callback_weights, reduce_lr])"
      ],
      "metadata": {
        "colab": {
          "base_uri": "https://localhost:8080/"
        },
        "id": "qu45n4y9iULW",
        "outputId": "8457866a-364a-4a1a-eaf8-c1be9ee411b6"
      },
      "execution_count": 27,
      "outputs": [
        {
          "output_type": "stream",
          "name": "stdout",
          "text": [
            "Epoch 1/10\n",
            "25/25 [==============================] - ETA: 0s - loss: 1.3407 - categorical_accuracy: 0.5150"
          ]
        },
        {
          "output_type": "stream",
          "name": "stderr",
          "text": [
            "/usr/local/lib/python3.10/dist-packages/keras/src/engine/training.py:3103: UserWarning: You are saving your model as an HDF5 file via `model.save()`. This file format is considered legacy. We recommend using instead the native Keras format, e.g. `model.save('my_model.keras')`.\n",
            "  saving_api.save_model(\n"
          ]
        },
        {
          "output_type": "stream",
          "name": "stdout",
          "text": [
            "\b\b\b\b\b\b\b\b\b\b\b\b\b\b\b\b\b\b\b\b\b\b\b\b\b\b\b\b\b\b\b\b\b\b\b\b\b\b\b\b\b\b\b\b\b\b\b\b\b\b\b\b\b\b\b\b\b\b\b\b\b\b\b\b\b\b\b\b\b\b\b\b\b\b\b\b\b\b\b\b\b\b\b\b\b\b\b\b\b\b\b\b\b\b\r25/25 [==============================] - 304s 13s/step - loss: 1.3407 - categorical_accuracy: 0.5150 - val_loss: 1.5560 - val_categorical_accuracy: 0.4428 - lr: 0.0010\n",
            "Epoch 2/10\n",
            "25/25 [==============================] - 295s 12s/step - loss: 1.3883 - categorical_accuracy: 0.4831 - val_loss: 1.5484 - val_categorical_accuracy: 0.4467 - lr: 0.0010\n",
            "Epoch 3/10\n",
            "25/25 [==============================] - 273s 11s/step - loss: 1.3593 - categorical_accuracy: 0.5031 - val_loss: 1.5591 - val_categorical_accuracy: 0.4445 - lr: 0.0010\n",
            "Epoch 4/10\n",
            "25/25 [==============================] - 286s 12s/step - loss: 1.3215 - categorical_accuracy: 0.5213 - val_loss: 1.6650 - val_categorical_accuracy: 0.4086 - lr: 0.0010\n",
            "Epoch 5/10\n",
            "25/25 [==============================] - 281s 12s/step - loss: 1.3514 - categorical_accuracy: 0.5100 - val_loss: 1.4911 - val_categorical_accuracy: 0.4586 - lr: 1.0000e-04\n",
            "Epoch 6/10\n",
            "25/25 [==============================] - 292s 12s/step - loss: 1.2854 - categorical_accuracy: 0.5375 - val_loss: 1.4497 - val_categorical_accuracy: 0.4696 - lr: 1.0000e-04\n",
            "Epoch 7/10\n",
            "25/25 [==============================] - 272s 11s/step - loss: 1.3146 - categorical_accuracy: 0.5213 - val_loss: 1.4261 - val_categorical_accuracy: 0.4813 - lr: 1.0000e-04\n",
            "Epoch 8/10\n",
            "25/25 [==============================] - 273s 11s/step - loss: 1.3064 - categorical_accuracy: 0.5350 - val_loss: 1.4166 - val_categorical_accuracy: 0.4898 - lr: 1.0000e-04\n",
            "Epoch 9/10\n",
            "25/25 [==============================] - 276s 11s/step - loss: 1.2985 - categorical_accuracy: 0.5256 - val_loss: 1.4164 - val_categorical_accuracy: 0.4920 - lr: 1.0000e-04\n",
            "Epoch 10/10\n",
            "25/25 [==============================] - 274s 11s/step - loss: 1.2975 - categorical_accuracy: 0.5200 - val_loss: 1.4158 - val_categorical_accuracy: 0.4885 - lr: 1.0000e-04\n"
          ]
        },
        {
          "output_type": "execute_result",
          "data": {
            "text/plain": [
              "<keras.src.callbacks.History at 0x7ec941d17340>"
            ]
          },
          "metadata": {},
          "execution_count": 27
        }
      ]
    },
    {
      "cell_type": "code",
      "source": [
        "# Прописываем путь к файлу с архивом тестовых файлов\n",
        "\n",
        "zip_file = '/content/drive/My Drive/Skillbox/test_kaggle.zip'\n",
        "\n",
        "# Распаковываем архив\n",
        "\n",
        "z_test = zipfile.ZipFile(zip_file, 'r')\n",
        "z_test.extractall()"
      ],
      "metadata": {
        "id": "96f64WEQiUIl"
      },
      "execution_count": 18,
      "outputs": []
    },
    {
      "cell_type": "code",
      "source": [
        "# Загрузка тестового датасета\n",
        "\n",
        "test_df = pd.read_csv(\"/content/drive/My Drive/Skillbox/sample_submission.csv\")"
      ],
      "metadata": {
        "id": "LklYloWPiUGA"
      },
      "execution_count": 19,
      "outputs": []
    },
    {
      "cell_type": "code",
      "source": [
        "#\n",
        "\n",
        "text = './test_kaggle/'\n",
        "test_df['image_path'] =  text + test_df['image_path']"
      ],
      "metadata": {
        "id": "IC5g979tiUDS"
      },
      "execution_count": 20,
      "outputs": []
    },
    {
      "cell_type": "code",
      "source": [
        "# Создаём тестовый генератор\n",
        "\n",
        "test_generator = image_gen.flow_from_dataframe(\n",
        "    dataframe=test_df,\n",
        "    directory=\".\",\n",
        "    x_col=\"image_path\",\n",
        "    y_col=\"emotion\",\n",
        "    target_size=(224, 224),\n",
        "    batch_size=64,\n",
        "    class_mode=\"categorical\",\n",
        "    shuffle=False\n",
        ")"
      ],
      "metadata": {
        "colab": {
          "base_uri": "https://localhost:8080/"
        },
        "id": "yWAYk2UeiUAO",
        "outputId": "857e68cf-22cc-4f06-f117-fa0b301b031c"
      },
      "execution_count": 23,
      "outputs": [
        {
          "output_type": "stream",
          "name": "stdout",
          "text": [
            "Found 5000 validated image filenames belonging to 1 classes.\n"
          ]
        }
      ]
    },
    {
      "cell_type": "code",
      "source": [
        "#  Предсказываем классы тестовых изображений\n",
        "\n",
        "y_pred_proba = model.predict(test_generator)\n",
        "y_pred = y_pred_proba.argmax(axis=1)"
      ],
      "metadata": {
        "colab": {
          "base_uri": "https://localhost:8080/"
        },
        "id": "0UXE7rCTqGwd",
        "outputId": "82c5e92c-a1ef-4c68-c7e5-533bb253b424"
      },
      "execution_count": 28,
      "outputs": [
        {
          "output_type": "stream",
          "name": "stdout",
          "text": [
            "79/79 [==============================] - 82s 1s/step\n"
          ]
        }
      ]
    },
    {
      "cell_type": "code",
      "source": [
        "# Создаём словарь эмоций и их числовой номерации\n",
        "\n",
        "em_dick = {}\n",
        "\n",
        "for i in range(0,9):\n",
        "  em_dick[i] = list_em[i]\n",
        "\n",
        "# Заменяем изначальные данные предсказанными классами\n",
        "\n",
        "test_df = pd.read_csv(\"/content/drive/My Drive/Skillbox/sample_submission.csv\")\n",
        "test_df['emotion'] = y_pred\n",
        "test_df['emotion'] = test_df['emotion'].replace(em_dick)"
      ],
      "metadata": {
        "id": "ta-VPqrVqGt7"
      },
      "execution_count": 29,
      "outputs": []
    },
    {
      "cell_type": "code",
      "source": [],
      "metadata": {
        "id": "GTYiRcUAEXXa"
      },
      "execution_count": null,
      "outputs": []
    },
    {
      "cell_type": "code",
      "source": [
        "# Сохраняем csv файл\n",
        "\n",
        "test_df.to_csv('result.csv', index=False)"
      ],
      "metadata": {
        "id": "e7m4_MqyqGrl"
      },
      "execution_count": 30,
      "outputs": []
    }
  ]
}
